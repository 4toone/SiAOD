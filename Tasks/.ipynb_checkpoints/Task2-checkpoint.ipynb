{
 "cells": [
  {
   "cell_type": "markdown",
   "id": "arctic-stocks",
   "metadata": {},
   "source": [
    "### Задание №1\n",
    "Массив A состоит из целых положительных чисел длин отрезков. Составьте из трех отрезков такой треугольник, чтобы его периметр был максимально возможным. Если невозможно составить треугольник с положительной площадью функция возвращает 0."
   ]
  },
  {
   "cell_type": "code",
   "execution_count": 1,
   "id": "caring-truck",
   "metadata": {
    "scrolled": false
   },
   "outputs": [
    {
     "name": "stdout",
     "output_type": "stream",
     "text": [
      "10 20 30 40\n",
      "20 30 40\n",
      "90\n"
     ]
    },
    {
     "data": {
      "text/plain": [
       "90"
      ]
     },
     "execution_count": 1,
     "metadata": {},
     "output_type": "execute_result"
    }
   ],
   "source": [
    "def func():\n",
    "    massiv = input().split(\" \")\n",
    "    chisla = [int(i) for i in massiv]\n",
    "    p = 0\n",
    "    if len(chisla) < 3:\n",
    "        return p\n",
    "    chisla.sort()\n",
    "    i = len(chisla) - 1\n",
    "    while i > 1:\n",
    "        if (chisla[i - 2] + chisla[i - 1]) > chisla[i]:\n",
    "            p = chisla[i - 2] + chisla[i - 1] + chisla[i]\n",
    "            print(chisla[i - 2], chisla[i - 1], chisla[i])\n",
    "            print(p)\n",
    "            return p\n",
    "        i -= 1\n",
    "    return p\n",
    "\n",
    "\n",
    "func()\n"
   ]
  },
  {
   "cell_type": "markdown",
   "id": "maritime-conversation",
   "metadata": {},
   "source": [
    "### Задание №2\n",
    "Дан массив неотрицательных целых чисел nums. Расположите их в таком порядке, чтобы вместе они образовали максимально возможное число. Замечание: Результат может быть очень большим числом, поэтому представьте его как string, а не integer."
   ]
  },
  {
   "cell_type": "code",
   "execution_count": 4,
   "id": "alert-charm",
   "metadata": {
    "scrolled": false
   },
   "outputs": [
    {
     "name": "stdout",
     "output_type": "stream",
     "text": [
      "9 91 91\n",
      "99191\n"
     ]
    }
   ],
   "source": [
    "def func():\n",
    "    massiv = input().split(\" \")\n",
    "    chisla = [int(i) for i in massiv]\n",
    "    chisla.sort(reverse=True)\n",
    "    m = [[], [], [], [], [], [], [], [], [], []]\n",
    "    copy_m = [[], [], [], [], [], [], [], [], [], []]\n",
    "    for i in range(0, len(chisla)):\n",
    "        razbiv = str(chisla[i])\n",
    "        copy_m[abs(9-int(razbiv[0]))].append(razbiv)\n",
    "    for i in range(0, len(chisla)):\n",
    "        razbiv = str(chisla[i])\n",
    "        m[abs(9-int(razbiv[0]))].append(razbiv)\n",
    "    for i in range(0, 10):\n",
    "        dlina_m = len(m[i])\n",
    "        if dlina_m == 0:\n",
    "            dlina_max_chisla = 0\n",
    "        else:\n",
    "            dlina_max_chisla = len(m[i][0])\n",
    "            for j in range(0, dlina_m):\n",
    "                while len(m[i][j]) < dlina_max_chisla:\n",
    "                    m[i][j] = m[i][j] + str(9 - i)\n",
    "            m[i] = [int(u) for u in m[i]]\n",
    "            n = 1\n",
    "            if dlina_m >= 2:\n",
    "                while n < dlina_m:\n",
    "                    for k in range(dlina_m - n):\n",
    "                        if m[i][k] < m[i][k + 1]:\n",
    "                            m[i][k], m[i][k + 1] = m[i][k + 1], m[i][k]\n",
    "                            copy_m[i][k], copy_m[i][k + 1] = copy_m[i][k + 1], copy_m[i][k]\n",
    "                    n = n + 1\n",
    "    result = \"\"\n",
    "    for i in range(10):\n",
    "        result += \"\".join(copy_m[i])\n",
    "    print(result)\n",
    "\n",
    "\n",
    "func()"
   ]
  },
  {
   "cell_type": "markdown",
   "id": "catholic-roots",
   "metadata": {},
   "source": [
    "### Задание №3\n",
    "Дана матрица mat размером m * n, значения целочисленные. Напишите функцию, сортирующую каждую диагональ матрицы по возрастанию и возвращающую получившуюся матрицу."
   ]
  },
  {
   "cell_type": "code",
   "execution_count": 6,
   "id": "cleared-anniversary",
   "metadata": {
    "scrolled": false
   },
   "outputs": [
    {
     "name": "stdout",
     "output_type": "stream",
     "text": [
      "10\n",
      "11\n",
      "10\n",
      "19\n",
      "11 19 14 19 10 11 15 19 10 15 18 \n",
      "11 18 12 11 17 13 13 18 10 12 19 \n",
      "17 14 10 10 11 13 12 15 15 18 10 \n",
      "16 16 13 14 19 10 10 18 17 17 12 \n",
      "10 11 16 12 19 17 18 11 17 12 18 \n",
      "13 11 15 19 14 11 10 19 13 16 10 \n",
      "14 11 14 16 10 16 17 16 16 15 12 \n",
      "13 15 19 10 10 11 18 19 17 17 17 \n",
      "10 15 14 15 18 16 16 19 10 14 17 \n",
      "13 12 12 11 17 19 13 10 14 11 15 \n",
      "Итог операции:\n",
      "10 19 14 19 10 11 15 19 10 15 18 \n",
      "11 10 12 11 17 13 13 18 10 12 19 \n",
      "17 14 11 10 11 13 12 15 15 18 10 \n",
      "16 16 13 11 19 10 10 18 17 17 12 \n",
      "10 11 16 12 11 17 18 11 17 12 18 \n",
      "13 11 15 19 14 14 10 19 13 16 10 \n",
      "14 11 14 16 10 16 17 16 16 15 12 \n",
      "13 15 19 10 10 11 18 18 17 17 17 \n",
      "10 15 14 15 18 16 16 19 19 14 17 \n",
      "13 12 12 11 17 19 13 10 14 19 15 \n"
     ]
    }
   ],
   "source": [
    "from random import randint\n",
    "import copy\n",
    "m = int(input())\n",
    "n = int(input())\n",
    "min_elem = int(input())\n",
    "max_elem = int(input())\n",
    "def gen_matrix(m, n, min_elem, max_elem):\n",
    "    mat=[]\n",
    "    for i in range(m):\n",
    "        array = list()\n",
    "        for j in range(n):\n",
    "            array.append(randint(min_elem, max_elem))\n",
    "        mat.append(array)\n",
    "    return mat\n",
    "def matrix(mat):\n",
    "    for i in range(len(mat)):\n",
    "        for j in range(len(mat[i])):\n",
    "            print(mat[i][j], end=' ')\n",
    "        print()\n",
    "def sorting(mat, m, n):\n",
    "    temp=[]\n",
    "    for i in range(min(m, n)):\n",
    "        temp.append(mat[i][i])\n",
    "    temp.sort()\n",
    "    for i in range(len(temp)):\n",
    "        mat[i][i]=temp[i]\n",
    "    return mat\n",
    "mat=gen_matrix(m, n, min_elem, max_elem)\n",
    "matrix(mat)\n",
    "print(\"Итог операции:\")\n",
    "mat1=copy.deepcopy(mat)\n",
    "mat1=sorting(mat1, m, n)\n",
    "matrix(mat1)"
   ]
  },
  {
   "cell_type": "code",
   "execution_count": null,
   "id": "5d0ff78f",
   "metadata": {},
   "outputs": [],
   "source": []
  }
 ],
 "metadata": {
  "kernelspec": {
   "display_name": "Python 3 (ipykernel)",
   "language": "python",
   "name": "python3"
  },
  "language_info": {
   "codemirror_mode": {
    "name": "ipython",
    "version": 3
   },
   "file_extension": ".py",
   "mimetype": "text/x-python",
   "name": "python",
   "nbconvert_exporter": "python",
   "pygments_lexer": "ipython3",
   "version": "3.9.7"
  }
 },
 "nbformat": 4,
 "nbformat_minor": 5
}
